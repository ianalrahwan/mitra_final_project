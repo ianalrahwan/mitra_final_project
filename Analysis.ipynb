{
  "nbformat": 4,
  "nbformat_minor": 0,
  "metadata": {
    "colab": {
      "provenance": []
    },
    "kernelspec": {
      "name": "python3",
      "display_name": "Python 3"
    },
    "language_info": {
      "name": "python"
    }
  },
  "cells": [
    {
      "cell_type": "markdown",
      "source": [
        "### Team name: Team Khaki Shorts\n",
        "### Student Name: Luke Layer\n",
        "### Student UT EID: ljl2283\n",
        "### Student Name: Ian Alrahwan\n",
        "### UT EID: ima456\n",
        "### Date: 03/22/2023"
      ],
      "metadata": {
        "id": "XWPqjvf9zSGa"
      }
    },
    {
      "cell_type": "markdown",
      "source": [
        "# Luke:\n",
        "#### Fill out everything for car-assignments.csv and cc_data.csv\n",
        "\n",
        "# Ian:\n",
        "### Fill out everything for gps.csv and loyalty_data.csv"
      ],
      "metadata": {
        "id": "I6GqIUEHqZoH"
      }
    },
    {
      "cell_type": "code",
      "source": [
        "import pandas as pd"
      ],
      "metadata": {
        "id": "ATTIWtbWyK8O"
      },
      "execution_count": null,
      "outputs": []
    },
    {
      "cell_type": "code",
      "source": [
        "cars = pd.read_csv('car-assignments.csv')\n",
        "cc = pd.read_csv('cc_data.csv')\n",
        "gps = pd.read_csv('gps.csv')\n",
        "loyalty = pd.read_csv('loyalty_data.csv')"
      ],
      "metadata": {
        "id": "raOZXADMqK9s"
      },
      "execution_count": null,
      "outputs": []
    },
    {
      "cell_type": "markdown",
      "source": [
        "###0. Read the project description and create a goal for your project. Articulate that goal in a short paragraph.\n",
        "\n",
        "Paragraph goes here."
      ],
      "metadata": {
        "id": "kUt3q6yDx12O"
      }
    },
    {
      "cell_type": "markdown",
      "source": [
        "###1. Familiarize yourself with the data set. Here are questions that I want you to answer:"
      ],
      "metadata": {
        "id": "izIFpPVwyBB4"
      }
    },
    {
      "cell_type": "code",
      "execution_count": null,
      "metadata": {
        "id": "Sx2216Tct57J"
      },
      "outputs": [],
      "source": [
        "# What is the size of the dataset (how many rows and columns)?"
      ]
    },
    {
      "cell_type": "code",
      "source": [
        "# What are the column names?"
      ],
      "metadata": {
        "id": "e7DruUVHyIA1"
      },
      "execution_count": null,
      "outputs": []
    },
    {
      "cell_type": "markdown",
      "source": [
        "Classify each column as - categorical, ordinal, discrete, or continuous."
      ],
      "metadata": {
        "id": "9s4kf-FeyV9e"
      }
    },
    {
      "cell_type": "markdown",
      "source": [
        "For categorical data find the discrete values."
      ],
      "metadata": {
        "id": "49gEoczpyis7"
      }
    },
    {
      "cell_type": "code",
      "source": [
        "# For categorical data find the distribution of the discrete values. In particular, identify the mode."
      ],
      "metadata": {
        "id": "K1mtPMnWyTp_"
      },
      "execution_count": null,
      "outputs": []
    },
    {
      "cell_type": "code",
      "source": [
        "# For quantitative data (discrete or continuous) find the range, median, mean, and standard deviation. \n",
        "# What are the units? Obviously, do this for columns where it makes sense. If the column has social \n",
        "# security numbers, none of the statistics mentioned is relevant."
      ],
      "metadata": {
        "id": "dcvsj1BVypuZ"
      },
      "execution_count": null,
      "outputs": []
    },
    {
      "cell_type": "markdown",
      "source": [
        "###2. In this step you will have to do data wrangling. "
      ],
      "metadata": {
        "id": "GbWwRjRByyqt"
      }
    },
    {
      "cell_type": "code",
      "source": [
        "# Find all missing data. "
      ],
      "metadata": {
        "id": "Nd_PDr9Tysh_"
      },
      "execution_count": null,
      "outputs": []
    },
    {
      "cell_type": "code",
      "source": [
        "# If it makes sense, replace missing categorical data with mode, and replace quantitative data with mean."
      ],
      "metadata": {
        "id": "Jf9MUP0Py2KU"
      },
      "execution_count": null,
      "outputs": []
    },
    {
      "cell_type": "code",
      "source": [
        "# You may remove a row with missing data. Make a record of it with your reasoning for removing it."
      ],
      "metadata": {
        "id": "jbBoO7lsy4nd"
      },
      "execution_count": null,
      "outputs": []
    },
    {
      "cell_type": "code",
      "source": [
        "# Make sure that all the data is within the expected range. For example, you should not have negative salaries."
      ],
      "metadata": {
        "id": "M0FS0sCJy7dy"
      },
      "execution_count": null,
      "outputs": []
    },
    {
      "cell_type": "code",
      "source": [
        "# Make sure that all the data is in the correct format."
      ],
      "metadata": {
        "id": "BxPI4Yq5y9mD"
      },
      "execution_count": null,
      "outputs": []
    },
    {
      "cell_type": "code",
      "source": [
        "# Check for duplicates and remove them if it makes sense."
      ],
      "metadata": {
        "id": "crO64ZJpy_jD"
      },
      "execution_count": null,
      "outputs": []
    },
    {
      "cell_type": "markdown",
      "source": [
        "###3. Do an initial statistical analysis of your dataset."
      ],
      "metadata": {
        "id": "wkffPZG3zDcP"
      }
    },
    {
      "cell_type": "code",
      "source": [
        "# Check for correlation among columns. Find the Pearson correlation coefficient among quantitative data. "
      ],
      "metadata": {
        "id": "T115jiJpzClm"
      },
      "execution_count": null,
      "outputs": []
    },
    {
      "cell_type": "code",
      "source": [
        "# If the correlation coefficient is high, check for the best fit - linear, quadratic, or cubic. "
      ],
      "metadata": {
        "id": "hqQotKkOzHo_"
      },
      "execution_count": null,
      "outputs": []
    },
    {
      "cell_type": "markdown",
      "source": [
        "## Narration\n",
        "####Resources:\n",
        "https://www.youtube.com/watch?v=jbkSRLYSojo\n",
        "\n",
        "https://utexas.instructure.com/courses/1358522/files/folder/Reference%20Material?preview=71280419\n",
        "\n",
        "####Description:\n",
        "- Present narration in a bulleted form\n",
        "- Your report must be in font Times New Roman 12 pt and 1.5 spaces line separation. \n",
        "- You must all show all your work in a Jupyter Notebook. Make sure your code is well-commented. \n",
        "- Convert the Jupyter Notebook into pdf. Upload both documents to Canvas. \n"
      ],
      "metadata": {
        "id": "I7cK2URwz5Tg"
      }
    }
  ]
}